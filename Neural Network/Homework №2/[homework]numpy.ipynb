{
 "cells": [
  {
   "cell_type": "markdown",
   "metadata": {
    "colab_type": "text",
    "id": "j3bbZRkqF3S1"
   },
   "source": [
    "<p style=\"align: center;\"><img align=center src=\"https://s8.hostingkartinok.com/uploads/images/2018/08/308b49fcfbc619d629fe4604bceb67ac.jpg\" width=500 height=450/></p>\n",
    "\n",
    "<h3 style=\"text-align: center;\"><b>Физтех-Школа Прикладной математики и информатики (ФПМИ) МФТИ</b></h3>\n"
   ]
  },
  {
   "cell_type": "markdown",
   "metadata": {
    "colab_type": "text",
    "id": "ElNwf2J6GDHg"
   },
   "source": [
    "---"
   ]
  },
  {
   "cell_type": "markdown",
   "metadata": {
    "colab_type": "text",
    "id": "9zWJc5rl9kVh"
   },
   "source": [
    "## Домашнее задание 2: библиотека Numpy и линейная алгебра\n"
   ]
  },
  {
   "cell_type": "markdown",
   "metadata": {
    "colab_type": "text",
    "id": "nq2vjOfwWLwF"
   },
   "source": [
    "Импортируем библиотеки:"
   ]
  },
  {
   "cell_type": "code",
   "execution_count": 11,
   "metadata": {
    "colab": {},
    "colab_type": "code",
    "id": "R0mDEfRJ9kVi"
   },
   "outputs": [],
   "source": [
    "import numpy as np\n",
    "import pandas as pd\n",
    "import matplotlib as pyplot\n",
    "\n",
    "from scipy import ndimage  # спецификатор для работы с изображениями\n",
    "from scipy import misc \n",
    "#from PIL import Image\n",
    "from scipy.stats import uniform\n",
    "\n",
    "%matplotlib inline"
   ]
  },
  {
   "cell_type": "markdown",
   "metadata": {
    "colab_type": "text",
    "id": "8t9loOAc9kVm"
   },
   "source": [
    "*Вопросы для самопроверки:*\n",
    "1. Что такое NumPy?\n",
    "2. Зачем используется и почему работает быстрее?\n",
    "3. Что такое линейная алгебра?\n",
    "4. Как она связана с машинным обучением и глубоким обучением?"
   ]
  },
  {
   "cell_type": "markdown",
   "metadata": {
    "colab_type": "text",
    "id": "ZexBy7Kb9kVm"
   },
   "source": [
    "### Задание 1"
   ]
  },
  {
   "cell_type": "markdown",
   "metadata": {
    "colab_type": "text",
    "id": "QuJhYgJU9kVn"
   },
   "source": [
    "В первой задаче вам предлагается перемножить две квадратные матрицы двумя способами -- без использования пакета numpy и с ним."
   ]
  },
  {
   "cell_type": "code",
   "execution_count": 3,
   "metadata": {
    "colab": {},
    "colab_type": "code",
    "id": "506uaq1E9kVn"
   },
   "outputs": [
    {
     "name": "stdout",
     "output_type": "stream",
     "text": [
      "A: \n",
      " [[0.8007327  0.95856302 0.27533612 0.80524042 0.19318649 0.16370557\n",
      "  0.55876843 0.22192841 0.03485962 0.42292894]\n",
      " [0.66255344 0.06932768 0.36694752 0.41663464 0.7752936  0.34759508\n",
      "  0.79848757 0.11170681 0.76038777 0.25433536]\n",
      " [0.42180579 0.50680172 0.19039695 0.97931172 0.8238981  0.73899299\n",
      "  0.01485439 0.42907377 0.21325633 0.54653747]\n",
      " [0.83910056 0.75316655 0.64101659 0.18738142 0.9010483  0.33762501\n",
      "  0.85838785 0.52896344 0.38251927 0.45691107]\n",
      " [0.32308779 0.94261512 0.9883768  0.47332379 0.10852031 0.77711034\n",
      "  0.71166171 0.6006148  0.15789118 0.99564736]\n",
      " [0.57906167 0.59673418 0.54564245 0.47778344 0.61047515 0.54888422\n",
      "  0.0126837  0.5044134  0.51368443 0.00686856]\n",
      " [0.51751372 0.76249335 0.0331395  0.08365071 0.18076584 0.57121653\n",
      "  0.74914793 0.75975003 0.26986468 0.43025661]\n",
      " [0.25406888 0.19539542 0.54411212 0.55036113 0.63154461 0.49423629\n",
      "  0.09804899 0.03815817 0.47069843 0.53875425]\n",
      " [0.30114958 0.38502291 0.56522567 0.34502284 0.42212925 0.02414396\n",
      "  0.08191861 0.81974451 0.32955812 0.32210777]\n",
      " [0.65690905 0.85713598 0.77889912 0.57602025 0.11524951 0.0579006\n",
      "  0.14044403 0.26217579 0.1062435  0.99646845]]\n",
      "B: \n",
      " [[2.08467221e-01 1.15204759e-01 7.35596186e-01 9.67342398e-01\n",
      "  3.97859399e-01 4.33955438e-04 4.07140700e-01 1.76098690e-01\n",
      "  1.14952775e-01 3.04344989e-01]\n",
      " [9.92467322e-01 7.29209345e-01 5.67349757e-01 4.29099925e-02\n",
      "  5.74027144e-01 4.60656747e-01 4.82942302e-01 4.95011191e-01\n",
      "  4.59590348e-01 5.42129132e-01]\n",
      " [1.03102098e-01 4.76017028e-01 7.51984881e-01 9.26147856e-01\n",
      "  9.19137812e-02 8.54358119e-01 7.42307368e-01 1.48052556e-01\n",
      "  9.94671732e-01 3.88522246e-02]\n",
      " [5.37872212e-01 9.06073111e-01 6.02809064e-02 7.72225456e-01\n",
      "  1.41574793e-01 5.24538595e-01 5.99396746e-01 3.75116808e-01\n",
      "  6.42180704e-01 9.00028407e-01]\n",
      " [6.80489616e-01 1.01882836e-01 4.34828902e-01 8.78800565e-01\n",
      "  3.73661283e-01 6.13640329e-01 5.73865896e-01 6.05706973e-01\n",
      "  4.35553011e-02 9.18281598e-01]\n",
      " [9.95368258e-01 5.50959235e-01 4.58224214e-02 1.21386239e-03\n",
      "  3.29309445e-01 7.35131794e-01 2.03159690e-01 2.11152463e-01\n",
      "  8.34216114e-01 1.57979909e-02]\n",
      " [4.48012127e-01 1.88000175e-01 7.50951925e-01 2.18428901e-01\n",
      "  8.79928346e-01 1.71276093e-01 4.26741346e-01 5.53567112e-01\n",
      "  4.81807360e-02 6.48028321e-01]\n",
      " [2.68490642e-01 1.85399616e-01 4.52022381e-01 6.47011163e-01\n",
      "  5.45974656e-01 3.13845554e-01 6.33718450e-01 7.62918700e-01\n",
      "  6.38626758e-02 2.13570016e-03]\n",
      " [5.17319917e-01 6.73713376e-01 8.66798840e-01 7.21378299e-01\n",
      "  8.08392813e-01 5.73384508e-02 5.27965641e-01 9.28913643e-01\n",
      "  2.97597084e-02 4.64674787e-01]\n",
      " [7.41172040e-01 5.88133896e-01 2.74054971e-01 5.22415572e-01\n",
      "  5.81187199e-01 3.06762102e-02 5.74269762e-01 7.73257894e-01\n",
      "  1.36786303e-01 8.92630169e-01]]\n",
      "ndim A: 2\n",
      "ndim B: 2\n",
      "shape A: (10, 10)\n",
      "shape B: (10, 10)\n",
      "[[0.8007327  0.95856302 0.27533612 0.80524042 0.19318649 0.16370557\n",
      "  0.55876843 0.22192841 0.03485962 0.42292894]\n",
      " [0.66255344 0.06932768 0.36694752 0.41663464 0.7752936  0.34759508\n",
      "  0.79848757 0.11170681 0.76038777 0.25433536]\n",
      " [0.42180579 0.50680172 0.19039695 0.97931172 0.8238981  0.73899299\n",
      "  0.01485439 0.42907377 0.21325633 0.54653747]\n",
      " [0.83910056 0.75316655 0.64101659 0.18738142 0.9010483  0.33762501\n",
      "  0.85838785 0.52896344 0.38251927 0.45691107]\n",
      " [0.32308779 0.94261512 0.9883768  0.47332379 0.10852031 0.77711034\n",
      "  0.71166171 0.6006148  0.15789118 0.99564736]\n",
      " [0.57906167 0.59673418 0.54564245 0.47778344 0.61047515 0.54888422\n",
      "  0.0126837  0.5044134  0.51368443 0.00686856]\n",
      " [0.51751372 0.76249335 0.0331395  0.08365071 0.18076584 0.57121653\n",
      "  0.74914793 0.75975003 0.26986468 0.43025661]\n",
      " [0.25406888 0.19539542 0.54411212 0.55036113 0.63154461 0.49423629\n",
      "  0.09804899 0.03815817 0.47069843 0.53875425]\n",
      " [0.30114958 0.38502291 0.56522567 0.34502284 0.42212925 0.02414396\n",
      "  0.08191861 0.81974451 0.32955812 0.32210777]\n",
      " [0.65690905 0.85713598 0.77889912 0.57602025 0.11524951 0.0579006\n",
      "  0.14044403 0.26217579 0.1062435  0.99646845]]\n",
      "[[2.08467221e-01 1.15204759e-01 7.35596186e-01 9.67342398e-01\n",
      "  3.97859399e-01 4.33955438e-04 4.07140700e-01 1.76098690e-01\n",
      "  1.14952775e-01 3.04344989e-01]\n",
      " [9.92467322e-01 7.29209345e-01 5.67349757e-01 4.29099925e-02\n",
      "  5.74027144e-01 4.60656747e-01 4.82942302e-01 4.95011191e-01\n",
      "  4.59590348e-01 5.42129132e-01]\n",
      " [1.03102098e-01 4.76017028e-01 7.51984881e-01 9.26147856e-01\n",
      "  9.19137812e-02 8.54358119e-01 7.42307368e-01 1.48052556e-01\n",
      "  9.94671732e-01 3.88522246e-02]\n",
      " [5.37872212e-01 9.06073111e-01 6.02809064e-02 7.72225456e-01\n",
      "  1.41574793e-01 5.24538595e-01 5.99396746e-01 3.75116808e-01\n",
      "  6.42180704e-01 9.00028407e-01]\n",
      " [6.80489616e-01 1.01882836e-01 4.34828902e-01 8.78800565e-01\n",
      "  3.73661283e-01 6.13640329e-01 5.73865896e-01 6.05706973e-01\n",
      "  4.35553011e-02 9.18281598e-01]\n",
      " [9.95368258e-01 5.50959235e-01 4.58224214e-02 1.21386239e-03\n",
      "  3.29309445e-01 7.35131794e-01 2.03159690e-01 2.11152463e-01\n",
      "  8.34216114e-01 1.57979909e-02]\n",
      " [4.48012127e-01 1.88000175e-01 7.50951925e-01 2.18428901e-01\n",
      "  8.79928346e-01 1.71276093e-01 4.26741346e-01 5.53567112e-01\n",
      "  4.81807360e-02 6.48028321e-01]\n",
      " [2.68490642e-01 1.85399616e-01 4.52022381e-01 6.47011163e-01\n",
      "  5.45974656e-01 3.13845554e-01 6.33718450e-01 7.62918700e-01\n",
      "  6.38626758e-02 2.13570016e-03]\n",
      " [5.17319917e-01 6.73713376e-01 8.66798840e-01 7.21378299e-01\n",
      "  8.08392813e-01 5.73384508e-02 5.27965641e-01 9.28913643e-01\n",
      "  2.97597084e-02 4.64674787e-01]\n",
      " [7.41172040e-01 5.88133896e-01 2.74054971e-01 5.22415572e-01\n",
      "  5.81187199e-01 3.06762102e-02 5.74269762e-01 7.73257894e-01\n",
      "  1.36786303e-01 8.92630169e-01]]\n"
     ]
    }
   ],
   "source": [
    "# Для генерации матриц используем фукнцию random -- она используется для генерации случайных объектов \n",
    "# функция sample создает случайную выборку. В качестве аргумента ей передается кортеж (i,j), здесь i -- число строк,\n",
    "# j -- число столбцов.\n",
    "a = np.random.sample((10,10))\n",
    "b = np.random.sample((10,10))\n",
    "# выведите размерность (ранг) каждой матрицы с помощью функции ndim.\n",
    "# Используйте функцию shape, что она вывела?\n",
    "# ========\n",
    "# тут можно писать код \n",
    "print(\"A: \\n\", a)\n",
    "print(\"B: \\n\", b)\n",
    "\n",
    "print (\"ndim A:\", a.ndim)\n",
    "print (\"ndim B:\", b.ndim)\n",
    "print (\"shape A:\", a.shape)\n",
    "print (\"shape B:\", b.shape)\n",
    "print(a)\n",
    "print(b)"
   ]
  },
  {
   "cell_type": "code",
   "execution_count": 4,
   "metadata": {
    "colab": {},
    "colab_type": "code",
    "id": "OT01mk-C9kVq"
   },
   "outputs": [],
   "source": [
    "def mult(a, b):\n",
    "    for k in range (len (a)):\n",
    "        for i in range (len(a)):\n",
    "            result = 0\n",
    "            for j in range(len(a)):\n",
    "                result += a[k][j] * b[j][i]\n",
    "            print (round (result, 5), end = \" \")\n",
    "        print()\n",
    "    pass"
   ]
  },
  {
   "cell_type": "code",
   "execution_count": 6,
   "metadata": {
    "colab": {},
    "colab_type": "code",
    "id": "AyyDUyqh9kVs"
   },
   "outputs": [],
   "source": [
    "def np_mult(a, b):\n",
    "    print (a @ b)\n",
    "    pass"
   ]
  },
  {
   "cell_type": "code",
   "execution_count": 5,
   "metadata": {
    "colab": {},
    "colab_type": "code",
    "id": "bL4XGWIh9kVu"
   },
   "outputs": [
    {
     "name": "stdout",
     "output_type": "stream",
     "text": [
      "2.5156 2.18021 2.146 2.37425 2.02105 1.51875 2.26048 1.94796 1.56853 2.43508 \n",
      "2.31201 1.78225 2.55973 2.91531 2.32638 1.51877 2.29994 2.33484 1.16733 2.44394 \n",
      "3.07077 2.43467 1.73188 2.80752 1.90347 2.12503 2.47246 2.33206 1.86127 2.65767 \n",
      "3.10164 2.1845 3.28565 3.41902 2.9184 2.14336 3.04506 2.89021 1.67046 2.83298 \n",
      "3.50644 3.00024 2.84267 2.90828 2.78437 2.51492 3.16376 2.84594 2.62397 2.61026 \n",
      "2.3999 2.00512 2.17891 2.70049 1.80539 1.96019 2.27743 2.01737 1.7239 1.77434 \n",
      "2.60274 1.7569 2.20585 1.86282 2.45635 1.34994 2.06419 2.31268 1.1325 1.81902 \n",
      "2.2177 1.92556 1.68388 2.4058 1.54065 1.66683 2.01835 1.85258 1.54832 2.05073 \n",
      "1.66606 1.53229 1.87646 2.42304 1.58057 1.41824 2.0955 1.94346 1.14404 1.51639 \n",
      "2.44064 2.36968 2.23188 2.7373 1.90039 1.61902 2.53716 2.10038 1.8304 2.35047 \n",
      "Wall time: 6 ms\n"
     ]
    }
   ],
   "source": [
    "%%time\n",
    "# засечем время работы функции без NumPy\n",
    "mult(a,b)"
   ]
  },
  {
   "cell_type": "code",
   "execution_count": 7,
   "metadata": {
    "colab": {},
    "colab_type": "code",
    "id": "Ej9y25jB9kVw"
   },
   "outputs": [
    {
     "name": "stdout",
     "output_type": "stream",
     "text": [
      "[[2.51559932 2.18020844 2.14599699 2.37424782 2.02104988 1.5187511\n",
      "  2.26047524 1.94795596 1.56853491 2.43507568]\n",
      " [2.31201409 1.78225111 2.5597315  2.9153091  2.32638452 1.51877096\n",
      "  2.29993695 2.33484431 1.16733343 2.44393984]\n",
      " [3.07077325 2.43466846 1.73187667 2.80752012 1.90346916 2.12503357\n",
      "  2.47246312 2.33206045 1.86127424 2.65767035]\n",
      " [3.10163524 2.18449944 3.28564831 3.41902487 2.91839593 2.14336386\n",
      "  3.04505853 2.89021488 1.6704581  2.83298198]\n",
      " [3.50643602 3.00024126 2.84266531 2.90828379 2.78437332 2.51492436\n",
      "  3.16376007 2.84593628 2.62396609 2.61025634]\n",
      " [2.3999045  2.00512468 2.17890652 2.7004917  1.80539299 1.96019013\n",
      "  2.2774269  2.01736511 1.72390486 1.77434292]\n",
      " [2.60273828 1.75689715 2.20585167 1.86282092 2.45634764 1.34993552\n",
      "  2.06418702 2.31267778 1.13249584 1.81901716]\n",
      " [2.21770184 1.92555898 1.68387852 2.4057996  1.54065087 1.66682807\n",
      "  2.01834638 1.85258365 1.54832202 2.05072851]\n",
      " [1.66606183 1.53229043 1.87646255 2.42303821 1.5805711  1.41824281\n",
      "  2.0954989  1.94346362 1.14404451 1.51638784]\n",
      " [2.44064219 2.36968447 2.23188094 2.73730063 1.90039297 1.61901763\n",
      "  2.53716321 2.10038104 1.83039926 2.35046625]]\n",
      "Wall time: 2 ms\n"
     ]
    }
   ],
   "source": [
    "%%time\n",
    "# засечем время работы функции с NumPy\n",
    "np_mult(a,b)"
   ]
  },
  {
   "cell_type": "markdown",
   "metadata": {
    "colab_type": "text",
    "id": "pNEVDEQJ9kVz"
   },
   "source": [
    "### Задание 2"
   ]
  },
  {
   "cell_type": "markdown",
   "metadata": {
    "colab_type": "text",
    "id": "TNG-vLX_9kVz"
   },
   "source": [
    "Напишите функцию, которая по данной последовательности $\\{A_i\\}_{i=1}^n$ строит последовательность $S_n$, где $S_k = \\frac{A_1 + ... + A_k}{k}$.\n",
    "Аналогично -- с помощью библиотеки NumPy и без нее. Сравните скорость, объясните результат."
   ]
  },
  {
   "cell_type": "code",
   "execution_count": null,
   "metadata": {
    "colab": {},
    "colab_type": "code",
    "id": "VNuFOp519kV0"
   },
   "outputs": [],
   "source": [
    "# функция, решающая задачу с помощью NumPy\n",
    "def sec_av(A):\n",
    "    S = np.nancumsum(A) / np.array(range(1, len(A) + 1))\n",
    "    return S"
   ]
  },
  {
   "cell_type": "code",
   "execution_count": 18,
   "metadata": {
    "colab": {},
    "colab_type": "code",
    "id": "kgKYKkRR9kV2"
   },
   "outputs": [
    {
     "name": "stdout",
     "output_type": "stream",
     "text": [
      "Wall time: 8 ms\n",
      "Wall time: 0 ns\n",
      "[0.12381236 0.22465487 0.32178363 0.42045638 0.42108357 0.42548058\n",
      " 0.46098962 0.44606779 0.41578925 0.39785806]\n",
      "[0.12381235511021815, 0.22465486500421072, 0.3217836328170324, 0.42045638291058646, 0.4210835714260819, 0.42548058045995485, 0.4609896194142823, 0.44606778696370075, 0.41578924585056504, 0.3978580595706985]\n",
      "1.6653345369377348e-16\n"
     ]
    }
   ],
   "source": [
    "# функция без NumPy\n",
    "def stupid_sec_av(A):\n",
    "    S = [0 for i in range(len(A))]\n",
    "    for i in range(len(A)):\n",
    "        for j in range(i + 1):\n",
    "            S[i] += A[j] / (i + 1)\n",
    "    return S\n",
    "\n",
    "# зададим некоторую последовательность и проверим ее на ваших функциях. \n",
    "# Первая функция должна работать ~ в 50 раз быстрее\n",
    "A = uniform.rvs(size=10) \n",
    "\n",
    "%time S1 = sec_av(A)\n",
    "%time S2 = stupid_sec_av(A)\n",
    "print (S1)\n",
    "print (S2)\n",
    "#проверим корректность:\n",
    "print (np.abs(S1 - S2).sum())"
   ]
  },
  {
   "cell_type": "markdown",
   "metadata": {
    "colab_type": "text",
    "id": "hYOmgppl9kV5"
   },
   "source": [
    "### Задание 3"
   ]
  },
  {
   "cell_type": "markdown",
   "metadata": {
    "colab_type": "text",
    "id": "TkrFKdoJ9kV5"
   },
   "source": [
    "Пусть задан некоторый массив $X$. Надо построить новый массив, где все элементы с нечетными индексами требуется заменить на число $a$ (если оно не указано, то на 1). Все четные элементы исходного массива нужно возвести в куб и записать в обратном порядке относительно позиций этих элементов. Массив $X$ при этом должен остаться без изменений. В конце требуется слить массив $X$ с преобразованным $X$ и вывести в обратном порядке."
   ]
  },
  {
   "cell_type": "code",
   "execution_count": 25,
   "metadata": {
    "colab": {},
    "colab_type": "code",
    "id": "MOUotbrS9kV7"
   },
   "outputs": [],
   "source": [
    "# функция, решающая задачу с помощью NumPy\n",
    "def transformation(X, a = 1):\n",
    "    N = np.copy(np.flip(X, 0))\n",
    "    np.place(N[1::2], N[1::2], 1)\n",
    "    np.place(N[::2], N[::2], [x**3 for x in N[::2]])\n",
    "    return X + N"
   ]
  },
  {
   "cell_type": "code",
   "execution_count": 26,
   "metadata": {
    "colab": {},
    "colab_type": "code",
    "id": "Ut3v_joM9kV9"
   },
   "outputs": [],
   "source": [
    "# функция, решающая задачу  без NumPy\n",
    "def stupid_transformation(X, a=1):\n",
    "    N = X[::-1]\n",
    "    N[1::2] = [a for _ in range(len(N[1::2]))]\n",
    "    N[::2] = [x**3 for x in N[::2]]\n",
    "    return X + N"
   ]
  },
  {
   "cell_type": "code",
   "execution_count": 27,
   "metadata": {
    "colab": {},
    "colab_type": "code",
    "id": "6SezU3-O9kV_"
   },
   "outputs": [
    {
     "name": "stdout",
     "output_type": "stream",
     "text": [
      "[0.16745315 0.31676801 0.54453312 0.19282708 0.78228521 0.95695857\n",
      " 0.69436896 0.53119057 0.73734561 0.89730681]\n",
      "[1.72247511 1.03178513 1.14988255 1.00716975 1.87635367 1.87635367\n",
      " 1.00716975 1.14988255 1.03178513 1.72247511]\n",
      "[1.37711054 1.03178513 1.00336708 1.00716975 1.6730359  1.87635367\n",
      " 1.00000037 1.14988255 1.00003211 1.72247511]\n",
      "0.7341202100721023\n"
     ]
    }
   ],
   "source": [
    "X = uniform.rvs(size = 10) \n",
    "\n",
    "# здесь код эффективнее примерно в 20 раз. \n",
    "# если Вы вдруг соберетесь печатать массив без np -- лучше сначала посмотрите на его размер\n",
    "print (X)\n",
    "S1 = stupid_transformation(X)\n",
    "print (\"t\"S1)\n",
    "S2 = transformation(X)\n",
    "print (S2)\n",
    "# проверим корректность:\n",
    "print (np.abs(S1 - S2).sum())"
   ]
  },
  {
   "cell_type": "markdown",
   "metadata": {
    "colab_type": "text",
    "id": "q7eDK6zZ9kWC"
   },
   "source": [
    "Что вы можете сказать о скорости вычислений в `NumPy`? Ответ обоснуйте.\n",
    "\n",
    "**Ответ:**"
   ]
  },
  {
   "cell_type": "markdown",
   "metadata": {
    "colab_type": "text",
    "id": "SLWNN0DA9kWF"
   },
   "source": [
    "### Задание 4"
   ]
  },
  {
   "cell_type": "markdown",
   "metadata": {
    "colab_type": "text",
    "id": "k1tdLLo29kWG"
   },
   "source": [
    "Вам подаются на вход два вектора `a` и `b` в трехмерном пространстве.Заполните их случайными числами. Реализуйте их скалярное произведение с помощью  `NumPy` и без. Засеките время работы, как это показано в заданиях выше."
   ]
  },
  {
   "cell_type": "code",
   "execution_count": 38,
   "metadata": {
    "colab": {},
    "colab_type": "code",
    "id": "116WkBP49kWH"
   },
   "outputs": [],
   "source": [
    "a = uniform.rvs(size = 10)\n",
    "b = uniform.rvs(size = 10)"
   ]
  },
  {
   "cell_type": "code",
   "execution_count": 39,
   "metadata": {
    "colab": {},
    "colab_type": "code",
    "id": "6HKKpgD39kWL"
   },
   "outputs": [],
   "source": [
    "def stupid_scalar_product(a,b):\n",
    "    result = 0\n",
    "    for i in range (len (a)):\n",
    "        result += a[i]*b[i]\n",
    "    print(\"stupid_scalar_product\",result)\n",
    "    return result"
   ]
  },
  {
   "cell_type": "code",
   "execution_count": 40,
   "metadata": {
    "colab": {},
    "colab_type": "code",
    "id": "lta984vp9kWP"
   },
   "outputs": [],
   "source": [
    "def numpy_scalar_product(a,b):\n",
    "    print (\"numpy_scalar_product:\",a @ b)\n",
    "    return a @ b"
   ]
  },
  {
   "cell_type": "code",
   "execution_count": 41,
   "metadata": {
    "colab": {},
    "colab_type": "code",
    "id": "5QK3Yj5j9kWR"
   },
   "outputs": [
    {
     "name": "stdout",
     "output_type": "stream",
     "text": [
      "stupid_scalar_product 2.662971975726971\n",
      "Wall time: 0 ns\n",
      "numpy_scalar_product: 2.662971975726971\n",
      "Wall time: 0 ns\n",
      "0.0\n"
     ]
    }
   ],
   "source": [
    "%time product_1 = stupid_scalar_product(a,b)\n",
    "%time product_2 = numpy_scalar_product(a,b)\n",
    "# проверим корректность:\n",
    "print(np.abs(product_1 - product_2).sum())"
   ]
  },
  {
   "cell_type": "markdown",
   "metadata": {
    "colab_type": "text",
    "id": "J_7dapMK9kWS"
   },
   "source": [
    "## Бонусная часть (в тесте вопросов по ней не будет)"
   ]
  },
  {
   "cell_type": "markdown",
   "metadata": {
    "colab_type": "text",
    "id": "Ld2wo7J49kWT"
   },
   "source": [
    "Image = 2-D численный массив\n",
    "(или 3-D: CT, MRI, 2D + time; 4-D, …)\n",
    "В текущем задании, image == Numpy array (np.array)"
   ]
  },
  {
   "cell_type": "code",
   "execution_count": 0,
   "metadata": {
    "colab": {},
    "colab_type": "code",
    "id": "4OvzTYbo9kWT"
   },
   "outputs": [],
   "source": [
    "pic = misc.face() #встроенная в библиотеку функция, которая загружает картинку с енотом"
   ]
  },
  {
   "cell_type": "markdown",
   "metadata": {
    "colab_type": "text",
    "id": "7bfaJn7K9kWW"
   },
   "source": [
    "Выведите тип и размеры для переменной pic. Что лежит внутри?"
   ]
  },
  {
   "cell_type": "code",
   "execution_count": 0,
   "metadata": {
    "colab": {},
    "colab_type": "code",
    "id": "MLlpZY-P9kWW"
   },
   "outputs": [],
   "source": [
    "print(#тут ваш код)"
   ]
  },
  {
   "cell_type": "markdown",
   "metadata": {
    "colab_type": "text",
    "id": "x7SVBSJO9kWY"
   },
   "source": [
    "Если вы все сделали правильно, что для формы у вас выведется кортеж из трех чисел: (X, Y, 3). Предположите, откуда там 3?\n",
    "\n",
    "**Ответ:**"
   ]
  },
  {
   "cell_type": "markdown",
   "metadata": {
    "colab_type": "text",
    "id": "4glUbq3J9kWZ"
   },
   "source": [
    "С помощью функции ниже можно вывести изображение и посмотреть, что находится внутри:"
   ]
  },
  {
   "cell_type": "code",
   "execution_count": 0,
   "metadata": {
    "colab": {},
    "colab_type": "code",
    "id": "wW3QcdHH9kWZ"
   },
   "outputs": [],
   "source": [
    "plt.imshow(pic)"
   ]
  },
  {
   "cell_type": "markdown",
   "metadata": {
    "colab_type": "text",
    "id": "JZbV8aaV9kWb"
   },
   "source": [
    "Убедитесь, что внутри массива `pic` действительно лежат числа. Выведите первые 10 записей.\n",
    "Массив состоит из троек чисел, которые характеризуют глубину цвета для каждого пикселя. Из пикселей складывается картинка."
   ]
  },
  {
   "cell_type": "code",
   "execution_count": 0,
   "metadata": {
    "colab": {},
    "colab_type": "code",
    "id": "vnO9Nu3p9kWb"
   },
   "outputs": [],
   "source": [
    "print(#тут ваш код)"
   ]
  },
  {
   "cell_type": "markdown",
   "metadata": {
    "colab_type": "text",
    "id": "OzS_dpQ59kWc"
   },
   "source": [
    "Выведите значение максимального элемента в матрице. Выведите значение минимального. Выведите среднее по всем элементам матрице. В каких пределах лежат значения глубины цветов?"
   ]
  },
  {
   "cell_type": "code",
   "execution_count": 0,
   "metadata": {
    "colab": {},
    "colab_type": "code",
    "id": "8nLbvb7G9kWd"
   },
   "outputs": [],
   "source": [
    "print(#тут ваш код)"
   ]
  },
  {
   "cell_type": "markdown",
   "metadata": {
    "colab_type": "text",
    "id": "7s08AjBO9kWf"
   },
   "source": [
    "## Задание 2"
   ]
  },
  {
   "cell_type": "markdown",
   "metadata": {
    "colab_type": "text",
    "id": "pqnS54SN9kWf"
   },
   "source": [
    "Теперь загрузим черно-белое изображение енота, чтобы наш массив был не 3-х мерным тензором, а двумерным массивом. Тензоры обрабатываются точно также, но для простоты пока что давайте работать с двумерными массивами, т.е. матрицами."
   ]
  },
  {
   "cell_type": "code",
   "execution_count": 0,
   "metadata": {
    "colab": {},
    "colab_type": "code",
    "id": "B4WAhqU39kWf"
   },
   "outputs": [],
   "source": [
    "pic = misc.face(gray=True)"
   ]
  },
  {
   "cell_type": "code",
   "execution_count": 0,
   "metadata": {
    "colab": {},
    "colab_type": "code",
    "id": "AWuyI0k69kWh"
   },
   "outputs": [],
   "source": [
    "plt.imshow(#тут ваш код)"
   ]
  },
  {
   "cell_type": "markdown",
   "metadata": {
    "colab_type": "text",
    "id": "5wGZtJnX9kWk"
   },
   "source": [
    "Выведите форму (shape) полученной картинки `pic`. Какие выводы можно сделать? Положите в `h`,`w` высоту и ширину картинки."
   ]
  },
  {
   "cell_type": "code",
   "execution_count": 0,
   "metadata": {
    "colab": {},
    "colab_type": "code",
    "id": "3vVanBzU9kWk"
   },
   "outputs": [],
   "source": [
    "print(#тут ваш код)\n",
    "h,w=#тут ваш код"
   ]
  },
  {
   "cell_type": "markdown",
   "metadata": {
    "colab_type": "text",
    "id": "xelx9Hxc9kWl"
   },
   "source": [
    "Используя библиотеку `numpy`, отразите изображение по горизонтали. Выведите картинку.\n",
    "\n",
    "Подсказка: не забывайте, что изображения -- это просто двумерные массивы"
   ]
  },
  {
   "cell_type": "code",
   "execution_count": 0,
   "metadata": {
    "colab": {},
    "colab_type": "code",
    "id": "PuBAIYwW9kWn"
   },
   "outputs": [],
   "source": [
    "#тут ваш код"
   ]
  },
  {
   "cell_type": "markdown",
   "metadata": {
    "colab_type": "text",
    "id": "XExgeFAR9kWp"
   },
   "source": [
    "Теперь давайте повысим контрастность -- для этого к каждому пикселю прибавим 50 единиц"
   ]
  },
  {
   "cell_type": "code",
   "execution_count": 0,
   "metadata": {
    "colab": {},
    "colab_type": "code",
    "id": "HqPiifvL9kWp"
   },
   "outputs": [],
   "source": [
    "#тут ваш код"
   ]
  },
  {
   "cell_type": "code",
   "execution_count": 0,
   "metadata": {
    "colab": {},
    "colab_type": "code",
    "id": "8mjGfjTK9kWs"
   },
   "outputs": [],
   "source": [
    "plt.imshow(pic)"
   ]
  },
  {
   "cell_type": "markdown",
   "metadata": {
    "colab_type": "text",
    "id": "FPWOUsQH9kWu"
   },
   "source": [
    "Теперь давайте попробуем превратить наше одноканальное изображение в трехканальный (RGB) тензор. Для этого вместо каждого пикселя в одноканальном изображении (в двумерном массиве) поставим кортеж из трех элементов -- глубины красного, зеленого и голубого соотвественно. Восстановить по ч/б картинке цветной мы не можем, так как мы не можем взять утерянную информацию из ниоткуда, но можем усилить черные и белые участки. Для этого давайте заполним все три канала одинаковыми значениями, деленными на что-то очень большое. Например $--$ на $200$.  То есть, например, если в пикселе `pic[i][j]` лежало значение **200**, то для нового изображения `new_pic` мы заполняем `new_pic[i][j]` кортежем из трех чисел `int(pic[i][j]/3)`. Функция `int` $--$ округление до целой части."
   ]
  },
  {
   "cell_type": "code",
   "execution_count": 0,
   "metadata": {
    "colab": {},
    "colab_type": "code",
    "id": "hEK9jRSf9kWv"
   },
   "outputs": [],
   "source": [
    "new_pic = np.zeros((h,w,3)) #создадим пустую матрицу, куда будем записывать значения\n",
    "for i in range(h):\n",
    "    for j in range(w):\n",
    "     #тут ваш код"
   ]
  },
  {
   "cell_type": "code",
   "execution_count": 0,
   "metadata": {
    "colab": {},
    "colab_type": "code",
    "id": "_RUpiNo69kWx"
   },
   "outputs": [],
   "source": [
    "plt.imshow(#тут ваш код)"
   ]
  },
  {
   "cell_type": "markdown",
   "metadata": {
    "colab_type": "text",
    "id": "OVO189tU9kWz"
   },
   "source": [
    "## Задание 3"
   ]
  },
  {
   "cell_type": "markdown",
   "metadata": {
    "colab_type": "text",
    "id": "kacDftwY9kW0"
   },
   "source": [
    "Теперь давайте уменьшим качество картинки в 16 раз, путем уменьшения качества изображения, т.е. теперь 16 пикселей по близости надо заполнить одним значением."
   ]
  },
  {
   "cell_type": "code",
   "execution_count": 0,
   "metadata": {
    "colab": {},
    "colab_type": "code",
    "id": "s21pa_tJ9kW0"
   },
   "outputs": [],
   "source": [
    "from sklearn.datasets import load_sample_image #импорт загрузчика изображения"
   ]
  },
  {
   "cell_type": "code",
   "execution_count": 0,
   "metadata": {
    "colab": {},
    "colab_type": "code",
    "id": "yTt_fdLC9kW2"
   },
   "outputs": [],
   "source": [
    "china = load_sample_image('china.jpg')\n",
    "plt.imshow(china)"
   ]
  },
  {
   "cell_type": "markdown",
   "metadata": {
    "colab_type": "text",
    "id": "CV3st_wn9kW4"
   },
   "source": [
    "Запишите в переменные `h`, `w`, `c` высоту, ширину, количество каналов соответственно для картинки `china`."
   ]
  },
  {
   "cell_type": "code",
   "execution_count": 0,
   "metadata": {
    "colab": {},
    "colab_type": "code",
    "id": "nJHwDMmv9kW4"
   },
   "outputs": [],
   "source": [
    "h, w, c = #тут ваш код"
   ]
  },
  {
   "cell_type": "markdown",
   "metadata": {
    "colab_type": "text",
    "id": "xu3xAGDu9kW5"
   },
   "source": [
    "Теперь давайте непосредственно перейдем к изменению картинки $--$ мы предлагаем разбивать картинки на квадраты 4 на 4 и заполнять все 16 значений внутри квадрата левым верхним значением. Вы можете сделать иначе."
   ]
  },
  {
   "cell_type": "code",
   "execution_count": 0,
   "metadata": {
    "colab": {},
    "colab_type": "code",
    "id": "GisNhXFK9kW6"
   },
   "outputs": [],
   "source": [
    "from copy import copy\n",
    "compressed_pic = copy(china)\n",
    "#тут ваш код     "
   ]
  },
  {
   "cell_type": "markdown",
   "metadata": {
    "colab_type": "text",
    "id": "0Kzb067Y9kW8"
   },
   "source": [
    "Напишите функцию, которая считает несоотвествие между исходной и сжатой картинкой. Запустите ваш код для `compressed_pic`, `china`"
   ]
  },
  {
   "cell_type": "code",
   "execution_count": 0,
   "metadata": {
    "colab": {},
    "colab_type": "code",
    "id": "39qh8JuZ9kW9"
   },
   "outputs": [],
   "source": [
    "def calculate_mismatch(a,b):\n",
    "    mismatch=0\n",
    "    #тут ваш код\n",
    "    print(mismatch)"
   ]
  },
  {
   "cell_type": "code",
   "execution_count": 0,
   "metadata": {
    "colab": {},
    "colab_type": "code",
    "id": "kVYOFPMP9kW_"
   },
   "outputs": [],
   "source": [
    "calculate_mismatch(#тут ваш код)"
   ]
  },
  {
   "cell_type": "markdown",
   "metadata": {
    "colab_type": "text",
    "id": "SxQTJIGs9kXF"
   },
   "source": [
    "Посчитайте синус от каждого значения пикселей изображения `china` по всем каналам. Выведите картинку. Используйте функцию `np.sin` "
   ]
  },
  {
   "cell_type": "code",
   "execution_count": 0,
   "metadata": {
    "colab": {},
    "colab_type": "code",
    "id": "UsXNJxLm9kXF"
   },
   "outputs": [],
   "source": [
    "#тут ваш код"
   ]
  },
  {
   "cell_type": "code",
   "execution_count": 0,
   "metadata": {
    "colab": {},
    "colab_type": "code",
    "id": "v8K8YZ3-9kXH"
   },
   "outputs": [],
   "source": [
    "plt.imshow(#тут ваш код) "
   ]
  },
  {
   "cell_type": "markdown",
   "metadata": {
    "colab_type": "text",
    "id": "0oH0MRQL9kXJ"
   },
   "source": [
    "Посмотрите на полученный результат. Как вы думаете, что можно делать с помощью такого преобразования? Какого рода объекты можно распознать?"
   ]
  },
  {
   "cell_type": "markdown",
   "metadata": {
    "colab_type": "text",
    "id": "KNJq_gfL9kXN"
   },
   "source": [
    "### Задание 4*\n",
    "это задание является дополнительным"
   ]
  },
  {
   "cell_type": "markdown",
   "metadata": {
    "colab_type": "text",
    "id": "4ht209199kXO"
   },
   "source": [
    "Теперь давайте поработаем с аудиофайлами. Стандартный аудиофайл представляет собой обычный набор чисел, в котором хранятся значения частот, снятых с определенной периодичностью. Итак, самая простая аудиодорожка $-$ одномерный массив.\n",
    "\n",
    "Первое, что нужно сделать $--$ установить библиотеку для работы с аудио. Она называется `librosa`. Гайд по установке: https://librosa.github.io/librosa/install.html\n"
   ]
  },
  {
   "cell_type": "code",
   "execution_count": 0,
   "metadata": {
    "colab": {},
    "colab_type": "code",
    "id": "nwg7Hn349kXP"
   },
   "outputs": [],
   "source": [
    "import librosa #импортируем библиотеку\n",
    "import IPython.display"
   ]
  },
  {
   "cell_type": "code",
   "execution_count": 0,
   "metadata": {
    "colab": {},
    "colab_type": "code",
    "id": "kbvx2c_L9kXQ"
   },
   "outputs": [],
   "source": [
    "audio, sr= librosa.load('Test.wav')  \n",
    "# записываем наш массив звуковых частот в файл аудио, sr -- число точек, записываемых в секунду. \n",
    "# чтобы файл открылся, он должен лежать в той же папке, что и файл HW_2.ipynb"
   ]
  },
  {
   "cell_type": "markdown",
   "metadata": {
    "colab_type": "text",
    "id": "w9Tipzz99kXS"
   },
   "source": [
    "Нашу дорожку можно воспроизвести в самом файле `.ipynb`:"
   ]
  },
  {
   "cell_type": "code",
   "execution_count": 0,
   "metadata": {
    "colab": {},
    "colab_type": "code",
    "id": "T2Rr5zTX9kXT"
   },
   "outputs": [],
   "source": [
    "IPython.display.Audio(audio, rate=sr)"
   ]
  },
  {
   "cell_type": "markdown",
   "metadata": {
    "colab_type": "text",
    "id": "QPRjmIoZ9kXW"
   },
   "source": [
    "Выведите тип данных переменной `audio`, найдите ее длительность и среднее."
   ]
  },
  {
   "cell_type": "code",
   "execution_count": 0,
   "metadata": {
    "colab": {},
    "colab_type": "code",
    "id": "ECc4dGk49kXW"
   },
   "outputs": [],
   "source": [
    "print(#тут ваш код)"
   ]
  },
  {
   "cell_type": "markdown",
   "metadata": {
    "colab_type": "text",
    "id": "574hvLOr9kXX"
   },
   "source": [
    "    Давайте посмотрим, как выглядит наша дорожка. Для этого используем библиотеку `matplotlib.pyplot`"
   ]
  },
  {
   "cell_type": "code",
   "execution_count": 0,
   "metadata": {
    "colab": {},
    "colab_type": "code",
    "id": "uW5eBW5Q9kXY"
   },
   "outputs": [],
   "source": [
    "plt.figure(figsize=(25,5))\n",
    "plt.title('Test.wav')\n",
    "plt.plot(audio)"
   ]
  },
  {
   "cell_type": "markdown",
   "metadata": {
    "colab_type": "text",
    "id": "uMboMRu89kXZ"
   },
   "source": [
    "Обрежьте последние 4 секунды файла"
   ]
  },
  {
   "cell_type": "code",
   "execution_count": 0,
   "metadata": {
    "colab": {},
    "colab_type": "code",
    "id": "4CcwvAnb9kXb"
   },
   "outputs": [],
   "source": [
    "audio = #тут ваш код"
   ]
  },
  {
   "cell_type": "markdown",
   "metadata": {
    "colab_type": "text",
    "id": "NQTEVqad9kXd"
   },
   "source": [
    "Давайте уменьшим амплитуду на 25%. Что при этом изменится? Напоминаю, что вы всегда можете послушать изменения при помощи `IPython.display.Audio`"
   ]
  },
  {
   "cell_type": "code",
   "execution_count": 0,
   "metadata": {
    "colab": {},
    "colab_type": "code",
    "id": "aYkN5Tbe9kXd"
   },
   "outputs": [],
   "source": [
    "audio = #тут ваш код"
   ]
  },
  {
   "cell_type": "markdown",
   "metadata": {
    "colab_type": "text",
    "id": "0mEQkKbc9kXf"
   },
   "source": [
    "А еще аудиодорожку можно ускорить. Для этого попробуйте потюнить параметр `rate`"
   ]
  },
  {
   "cell_type": "code",
   "execution_count": 0,
   "metadata": {
    "colab": {},
    "colab_type": "code",
    "id": "kCIh5VqX9kXg"
   },
   "outputs": [],
   "source": [
    "IPython.display.Audio(audio, rate=sr)"
   ]
  }
 ],
 "metadata": {
  "colab": {
   "collapsed_sections": [],
   "name": "[homework]numpy.ipynb",
   "provenance": [],
   "version": "0.3.2"
  },
  "kernelspec": {
   "display_name": "Python 3",
   "language": "python",
   "name": "python3"
  },
  "language_info": {
   "codemirror_mode": {
    "name": "ipython",
    "version": 3
   },
   "file_extension": ".py",
   "mimetype": "text/x-python",
   "name": "python",
   "nbconvert_exporter": "python",
   "pygments_lexer": "ipython3",
   "version": "3.5.2"
  }
 },
 "nbformat": 4,
 "nbformat_minor": 1
}
